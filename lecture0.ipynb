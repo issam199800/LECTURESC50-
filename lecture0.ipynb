{
 "cells": [
  {
   "cell_type": "markdown",
   "id": "a3befd76",
   "metadata": {},
   "source": [
    "Para solucionar los problemas: enconetramos os outputs dentro de la caja un algoritmo y luego los outputs.\n",
    "El algoritmo lo que hace es dividir la búsqueda para encontrar la solución."
   ]
  },
  {
   "cell_type": "markdown",
   "id": "799d10e9",
   "metadata": {},
   "source": [
    "Número binarrio. Muy simple. Hay 8 patrones y se cuenta del 0 hasta el 7. \n",
    "4 2 1\n",
    "0 0 1 = 1\n",
    "0 1 0 = 2\n",
    "1 0 1 = 5\n",
    "Esto es porque sumas los número de arriba o el 1 se encuentra en un número, entonces sólo representa de ese número."
   ]
  },
  {
   "cell_type": "markdown",
   "id": "f73e8396",
   "metadata": {},
   "source": [
    "Gráfico donde se representa la (n), (n/2) y (log2n)\n",
    "Las conclusiones son que la n va paso a paso para realizar la búsqueda.\n",
    "La n/2 necesita la mitad de tiempo ya que va de 2 en 2, debería hacerlo en un 50%.\n",
    "La log2n no se perderá en ningún momento."
   ]
  },
  {
   "cell_type": "markdown",
   "id": "b24580dd",
   "metadata": {},
   "source": [
    "Pseudocódigo: los pasos que hemos tenido que realizar anteriormente mediante el algoritmo para poder encontrar la solución. \n",
    "Existe la expresión booleana que significa plantear una pregunta para una respuesta simple como un sí o no, veradera o falsa, 1 o 2.\n",
    "El concepto go back to te puede llevar a un bucle infinito."
   ]
  }
 ],
 "metadata": {
  "language_info": {
   "name": "python"
  }
 },
 "nbformat": 4,
 "nbformat_minor": 5
}
