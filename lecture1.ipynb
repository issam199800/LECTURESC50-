{
 "cells": [
  {
   "cell_type": "markdown",
   "id": "377c54b4",
   "metadata": {},
   "source": [
    "Soruce data: los ordenador utilizan los patrones bits para representar algo, es decir, con el código binario que es lo único que entiende la computadora y con esos 0 y 1 representa números, palabras, letras, colores, sonidos..."
   ]
  },
  {
   "cell_type": "markdown",
   "id": "4de9eeba",
   "metadata": {},
   "source": [
    "Para entenderlo nosotros necesitamos el Machine code. Tenemos como inputs el source code (Código fuente), compiler que es el compilador que su propósito es traducir uno al otro (entrada y salida) y en la salida tenemos el machine code."
   ]
  },
  {
   "cell_type": "markdown",
   "id": "ee1285cf",
   "metadata": {},
   "source": [
    "Poner \"ls\" en la terminal no está enumerando el archivo de mi carpeta. Es una abreviatura."
   ]
  },
  {
   "cell_type": "markdown",
   "id": "c325ef9d",
   "metadata": {},
   "source": [
    "SORUCE DATA\n",
    "\n",
    "- El código binario se imprime en la pantalla y el rodenador quiere representar algo, ya sea números, letras o palabras.\n",
    "- Los ordenadores utilizan los patrones bits para representa algo en concreto.\n",
    "- Para nosotros entenderlo necesitamos lo siguiente:\n",
    "\n",
    "MACHINE CODE\n",
    "Input---------------> Compiler------------> output\n",
    "(Source code)        Compilador             Mchine code\n",
    "(código de fuente)   (su propósito es\n",
    "                    traducir uno al otro)"
   ]
  },
  {
   "cell_type": "markdown",
   "id": "eb34dc35",
   "metadata": {},
   "source": [
    "EJEMPL CON SCRATCH\n",
    "\n",
    "Todo esto desde la terminal\n",
    "- Code hello.c ----> archivo llamado así (necesito dos comandos para ejecutarl)\n",
    "\n",
    "En primer lugar hacer el \"make\"\n",
    "- make hello\n",
    "\n",
    "Lugo ponemos ./hello ----> Le dice a la computadora que está en esta carpeta.\n",
    "Tener en cuenta que cuando ponemos un . delante del nombre de la carpeta es que damos un paso a tras para indicar que la información esta en esa carpeta concreta.\n",
    "\n",
    "Todo esto representa el compiler, convierte el código fuente en un código máquina.\n"
   ]
  },
  {
   "cell_type": "markdown",
   "id": "a96d12ed",
   "metadata": {},
   "source": [
    "FUNCIONES BÁSICAS\n",
    "\n",
    "- Print ----> Imprime la palabra o la variable que quiero representar.\n",
    "- Printf ---> con esto podemos formatear nuestro texto con variables distintas.\n",
    "- Con .c ---> necesito comillas doble \".\n",
    "- Si quiero que mi función se represente en diferentes líneas tendrá que poner por ejemplo: (\"hello, world\\n\\n\\n\")\n",
    "\n",
    "Arguments ------> Function -----> side effects\n",
    "Input                             (efecto secundario)\n",
    "(Printf)                     "
   ]
  },
  {
   "cell_type": "markdown",
   "id": "20acd52a",
   "metadata": {},
   "source": [
    "FUNCIÓN\n",
    "\n",
    "- get_string: deseo de obtener una cadena de texto. (Más útil)\n",
    "- get_int: obtener uun número entero, \"1\" o \"0\".\n",
    "- La función de ; es un detalle simple que no hay que dejar pasar."
   ]
  },
  {
   "cell_type": "markdown",
   "id": "460469f8",
   "metadata": {},
   "source": [
    "CADENAS -- ''; \"\"\n",
    "\n",
    "- Cuando utilizo cadenas, se utilizan comillas dobles \"\"\n",
    "- Caundo se utilizn caracteres individuales, se utlizan comillas simples '' "
   ]
  },
  {
   "cell_type": "markdown",
   "id": "ca7bc2f1",
   "metadata": {},
   "source": [
    "- Las variables están o sólo existen dentro de las llaves donde las defines."
   ]
  }
 ],
 "metadata": {
  "language_info": {
   "name": "python"
  }
 },
 "nbformat": 4,
 "nbformat_minor": 5
}
