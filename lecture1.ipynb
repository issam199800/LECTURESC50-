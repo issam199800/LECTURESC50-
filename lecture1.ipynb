{
 "cells": [
  {
   "cell_type": "markdown",
   "id": "377c54b4",
   "metadata": {},
   "source": [
    "Soruce data: los ordenador utilizan los patrones bits para representar algo, es decir, con el código binario que es lo único que entiende la computadora y con esos 0 y 1 representa números, palabras, letras, colores, sonidos..."
   ]
  },
  {
   "cell_type": "markdown",
   "id": "4de9eeba",
   "metadata": {},
   "source": [
    "Para entenderlo nosotros necesitamos el Machine code. Tenemos como inputs el source code (Código fuente), compiler que es el compilador que su propósito es traducir uno al otro (entrada y salida) y en la salida tenemos el machine code."
   ]
  }
 ],
 "metadata": {
  "language_info": {
   "name": "python"
  }
 },
 "nbformat": 4,
 "nbformat_minor": 5
}
