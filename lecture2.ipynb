{
 "cells": [
  {
   "cell_type": "markdown",
   "id": "ca56dc30",
   "metadata": {},
   "source": [
    "ARRAYS -  MATRICES"
   ]
  },
  {
   "cell_type": "markdown",
   "id": "b0482a73",
   "metadata": {},
   "source": [
    "READING LEVELS\n",
    "\n",
    "Libro 1--> \"Un pez, dos peces, pez rojo, pez azul\"-- Es de grado inferior a 1 porque es muy simple según el algoritmo.\n",
    "Libro 2--> \"Felicidades, hiy es tu dia, vas a lugares maravillosos, te vas\" -- tercer grado según el  algoritmo.\n",
    "Libro 3--> \"Era un dia brillante y frío de abril y los relojes daban las 13...\" -- grado 10, frases y parrafos completos."
   ]
  },
  {
   "cell_type": "markdown",
   "id": "8c433661",
   "metadata": {},
   "source": [
    "Criptografía -  Cryptography"
   ]
  },
  {
   "cell_type": "markdown",
   "id": "1d110c57",
   "metadata": {},
   "source": [
    "- Compilador--> Es llamado clang por el lenguaje C. Cuando eejecutar por ejemplo con make hello, el make está ejecutando otro programa, ara ti llamado CLANG. Te da un archivo predeterminado llamado a.out\n",
    "- Al final el make sirve para automatizar el proceso y ahorrar tiempo. \n",
    "- Otra raificación de lo que puede hacer make, Bibliotecas de terceros."
   ]
  },
  {
   "cell_type": "markdown",
   "id": "17aade47",
   "metadata": {},
   "source": [
    "- Obtenemos 4 téminos en compilar:\n",
    " . Preprocessing --> Ahorra tiempo para que pueda reutilizar funciones que alguien escribió y reutilizarlas y autmatozar el proceso de copiar y pegar.El prototipo es la primera línea de una función , puntoy coma (;).\n",
    "\n",
    " . Compiling: Código que después de haber sido procesado, significa que se traduce de un lenguaje a otro.\n",
    " . Assembling: Convertir el código de esamblaje en ceros y unos reales.\n",
    " . Linking: Mira cuantos archivos diferentes hay involucrados. Finalmente vincula o mejor dicho, combina los archivos diferetes en números."
   ]
  },
  {
   "cell_type": "markdown",
   "id": "386e5487",
   "metadata": {},
   "source": [
    "NOTA--- Hoy en día se trata de depurar tu código de manera que pueda encontrar y corregir errores de él."
   ]
  },
  {
   "cell_type": "markdown",
   "id": "e657fade",
   "metadata": {},
   "source": [
    "DEBUG50- Ejecuación en buggy.c donde está escrito el código y definidas las diferentes funciones que hay.\n",
    "\n",
    "- Punto de interrupación --> Es una señal de stop que puedes agregar a cualquiera de tus líneas de código y decirle a la comptadoraque interrumpa la ejecuación en ese punto. Que haga una pausa y ue investigue."
   ]
  },
  {
   "cell_type": "markdown",
   "id": "ff3b185a",
   "metadata": {},
   "source": [
    "TYPES\n",
    "\n",
    "- Float--> para números reales con puntos decimales. 4 bytes\n",
    "- Bool--> 1 byte\n",
    "- int--> 4 byte\n",
    "- long--> 8 byte\n",
    "- Double--> 8 bytes\n",
    "- Char--> 1 byte\n",
    "- String--> ?"
   ]
  }
 ],
 "metadata": {
  "language_info": {
   "name": "python"
  }
 },
 "nbformat": 4,
 "nbformat_minor": 5
}
